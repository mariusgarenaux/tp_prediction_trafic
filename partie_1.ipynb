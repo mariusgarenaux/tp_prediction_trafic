{
 "cells": [
  {
   "cell_type": "code",
   "execution_count": null,
   "metadata": {},
   "outputs": [],
   "source": [
    "import sys\n",
    "sys.path.append('./simplificator/src')\n",
    "import simplificator as sf"
   ]
  },
  {
   "cell_type": "markdown",
   "metadata": {},
   "source": [
    "---\n",
    "#### __INTRODUCTION :__"
   ]
  },
  {
   "cell_type": "markdown",
   "metadata": {},
   "source": [
    "Cette partie d'introduction sert à expliquer quelques commandes, et à vous familiariser avec. N'hésitez pas à essayer des choses. Au cas où, un mémo des commandes est disponible dans le fichier `FAQ.ipynb`. Executez les cellules suivantes les unes après les autres.\n",
    "\n",
    "Nous allons manipuler des __tableaux__. Voici un exemple de tableau :\n",
    "\n",
    "![ex_tableau](./assets/exemple_tableau.png)\n",
    "\n",
    "En rouge, on observe la __ligne__ numéro __360__. Et en vert, la __colonne__ __id_troncon__. L'__élément__ (ou la __case__) à la __ligne 360__ et à la __colonne id_troncon__ est donc `25687_G`."
   ]
  },
  {
   "cell_type": "markdown",
   "metadata": {},
   "source": [
    "On commence par charger les premières données :"
   ]
  },
  {
   "cell_type": "code",
   "execution_count": null,
   "metadata": {},
   "outputs": [],
   "source": [
    "donnees_troncons = sf.charger_donnees_troncon()"
   ]
  },
  {
   "cell_type": "markdown",
   "metadata": {},
   "source": [
    "On peut afficher ces données avec la fonction `afficher`, qui prend en paramètre le nombre de lignes à afficher. Par exemple, si on veut afficher les `6` premières lignes du tableau `donnees_troncons` on fait comme ceci :"
   ]
  },
  {
   "cell_type": "code",
   "execution_count": null,
   "metadata": {},
   "outputs": [],
   "source": [
    "donnees_troncons.afficher(6)"
   ]
  },
  {
   "cell_type": "markdown",
   "metadata": {},
   "source": [
    "Ici, seules les `6` premières lignes ont été affichées, mais il y en a en fait beaucoup plus ! Voici comment savoir combien de lignes il y a dans le tableau :"
   ]
  },
  {
   "cell_type": "code",
   "execution_count": null,
   "metadata": {},
   "outputs": [],
   "source": [
    "donnees_troncons.afficher_le_nombre_de_lignes()"
   ]
  },
  {
   "cell_type": "markdown",
   "metadata": {},
   "source": [
    ">Les routes de la ville de Rennes sont découpées en __tronçons__ (une portion de route). Chaque __ligne__ de ce tableau correspond à un __tronçon__. Les __colonnes__ correspondent à des informations sur ce tronçon :\n",
    ">* __id_troncon__ : un identifiant unique du tronçon, \n",
    ">* __hierarchie__ : le type de route sur lequel est ce tronçon,\n",
    ">* __denomination__ : le nom de la route sur laquelle est ce tronçon.\n",
    ">\n",
    ">On regardera ces colonnes plus en détail dans la suite.\n",
    "\n",
    "Voici un exemple de tronçon, situé dans la rue de Montfort :"
   ]
  },
  {
   "cell_type": "markdown",
   "metadata": {},
   "source": [
    "![ex_troncon](./assets/example_troncon.png)"
   ]
  },
  {
   "cell_type": "markdown",
   "metadata": {},
   "source": [
    "On peut connaître les différentes valeurs qu'il y a dans une colonne de la manière suivante :"
   ]
  },
  {
   "cell_type": "code",
   "execution_count": null,
   "metadata": {},
   "outputs": [],
   "source": [
    "donnees_troncons.afficher_les_valeurs_de_la_colonne('hierarchie')"
   ]
  },
  {
   "cell_type": "markdown",
   "metadata": {},
   "source": [
    "_Fin de la partie d'introduction_"
   ]
  },
  {
   "cell_type": "markdown",
   "metadata": {},
   "source": [
    "# __1 - Récupération des données__"
   ]
  },
  {
   "cell_type": "markdown",
   "metadata": {},
   "source": [
    "__Question 1.1 :__ Sur les données `donnees_troncons`, afficher les valeurs de la colonne `denomination` :"
   ]
  },
  {
   "cell_type": "code",
   "execution_count": null,
   "metadata": {},
   "outputs": [],
   "source": [
    "donnees_troncons.afficher_les_valeurs_de_la_colonne('denomination')"
   ]
  },
  {
   "cell_type": "markdown",
   "metadata": {},
   "source": [
    "On charge ensuite un autre jeu de données : `donnees_trafic_1` :"
   ]
  },
  {
   "cell_type": "code",
   "execution_count": null,
   "metadata": {},
   "outputs": [],
   "source": [
    "donnees_trafic_1 = sf.charger_donnees_trafic_1()"
   ]
  },
  {
   "cell_type": "markdown",
   "metadata": {},
   "source": [
    "__Question 1.2 :__ Afficher les 3 premières lignes de ces nouvelles données :"
   ]
  },
  {
   "cell_type": "code",
   "execution_count": null,
   "metadata": {},
   "outputs": [],
   "source": [
    "donnees_trafic_1.afficher(3)"
   ]
  },
  {
   "cell_type": "markdown",
   "metadata": {},
   "source": [
    ">Ce second jeu de données est à une série d'__observation de tronçons__. Chaque __ligne__ correspond à un __tronçon__. Les __colonnes__ donnent des informations sur ce tronçon :\n",
    ">* __jour__, __heure__: le jour et l'heure auxquels le tronçon a été observé.\n",
    ">* __etat_trafic__ : l'état du trafic sur ce tronçon, à cette heure précise.\n",
    ">* __id_troncon__ : le même identifiant que dans le premier jeu de données."
   ]
  },
  {
   "cell_type": "markdown",
   "metadata": {},
   "source": [
    "__Question 1.3 :__ Afficher le nombre de lignes de `donnees_trafic_1` :"
   ]
  },
  {
   "cell_type": "code",
   "execution_count": null,
   "metadata": {},
   "outputs": [],
   "source": [
    "donnees_trafic_1.afficher_le_nombre_de_lignes()"
   ]
  },
  {
   "cell_type": "markdown",
   "metadata": {},
   "source": [
    "__Question 1.4 :__ Afficher les différentes valeurs de la colonne `etat_trafic` :"
   ]
  },
  {
   "cell_type": "code",
   "execution_count": null,
   "metadata": {},
   "outputs": [],
   "source": [
    "donnees_trafic_1.afficher_les_valeurs_de_la_colonne('etat_trafic')"
   ]
  },
  {
   "cell_type": "markdown",
   "metadata": {},
   "source": [
    "---"
   ]
  },
  {
   "cell_type": "markdown",
   "metadata": {},
   "source": [
    "_Fin de la partie 1. Dans la partie 2, on voit comment afficher ces données sur une carte._"
   ]
  },
  {
   "cell_type": "markdown",
   "metadata": {},
   "source": [
    "---"
   ]
  },
  {
   "cell_type": "markdown",
   "metadata": {},
   "source": [
    "### Bac à sable"
   ]
  },
  {
   "cell_type": "code",
   "execution_count": null,
   "metadata": {},
   "outputs": [],
   "source": []
  },
  {
   "cell_type": "code",
   "execution_count": null,
   "metadata": {},
   "outputs": [],
   "source": []
  },
  {
   "cell_type": "code",
   "execution_count": null,
   "metadata": {},
   "outputs": [],
   "source": []
  }
 ],
 "metadata": {
  "kernelspec": {
   "display_name": "venv",
   "language": "python",
   "name": "python3"
  },
  "language_info": {
   "codemirror_mode": {
    "name": "ipython",
    "version": 3
   },
   "file_extension": ".py",
   "mimetype": "text/x-python",
   "name": "python",
   "nbconvert_exporter": "python",
   "pygments_lexer": "ipython3",
   "version": "3.11.8"
  }
 },
 "nbformat": 4,
 "nbformat_minor": 2
}
