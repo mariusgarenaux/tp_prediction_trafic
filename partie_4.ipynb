{
 "cells": [
  {
   "cell_type": "code",
   "execution_count": null,
   "metadata": {},
   "outputs": [],
   "source": [
    "import sys\n",
    "sys.path.append('./simplificator/src')\n",
    "import simplificator as sf"
   ]
  },
  {
   "cell_type": "markdown",
   "metadata": {},
   "source": [
    "## __4 - Entraînement d'une seconde IA__\n",
    "---"
   ]
  },
  {
   "cell_type": "markdown",
   "metadata": {},
   "source": [
    "Pour tenter d'améliorier notre IA, on va lui donner un jeu de donnéees d'entraînement plus diversifié que le précedent :"
   ]
  },
  {
   "cell_type": "code",
   "execution_count": null,
   "metadata": {},
   "outputs": [],
   "source": [
    "donnees = sf.charger_donnees_trafic_3()"
   ]
  },
  {
   "cell_type": "markdown",
   "metadata": {},
   "source": [
    "__Question 4.1 :__ Afficher les données, ainsi que les différentes valeurs des colonnes :\n",
    "* `jour`\n",
    "* `heure`\n",
    "* `etat_trafic`\n",
    "* `hierarchie`"
   ]
  },
  {
   "cell_type": "code",
   "execution_count": null,
   "metadata": {},
   "outputs": [],
   "source": [
    "donnees.afficher()"
   ]
  },
  {
   "cell_type": "code",
   "execution_count": null,
   "metadata": {},
   "outputs": [],
   "source": [
    "donnees.afficher_les_valeurs_de_la_colonne('etat_trafic')\n",
    "donnees.afficher_les_valeurs_de_la_colonne('hierarchie')\n",
    "donnees.afficher_les_valeurs_de_la_colonne('jour')\n",
    "donnees.afficher_les_valeurs_de_la_colonne('heure')"
   ]
  },
  {
   "cell_type": "markdown",
   "metadata": {},
   "source": [
    "__Question 4.2 :__ Utiliser toutes les colonnes sauf `'coordonnees'` pour entraîner une IA."
   ]
  },
  {
   "cell_type": "code",
   "execution_count": null,
   "metadata": {},
   "outputs": [],
   "source": [
    "entree = donnees.sous_tableau(colonnes=['id_troncon', 'hierarchie', 'jour', 'heure', 'denomination'])\n",
    "entree.afficher()"
   ]
  },
  {
   "cell_type": "code",
   "execution_count": null,
   "metadata": {},
   "outputs": [],
   "source": [
    "sortie = donnees.sous_tableau(colonnes=['etat_trafic'])\n",
    "sortie.afficher()"
   ]
  },
  {
   "cell_type": "code",
   "execution_count": null,
   "metadata": {},
   "outputs": [],
   "source": [
    "akinator = sf.SfNaiveBayes()\n",
    "akinator.entrainer(entree = entree, sortie = sortie)"
   ]
  },
  {
   "cell_type": "markdown",
   "metadata": {},
   "source": [
    "__Question 4.3 :__ Pour tester notre IA, on va essayer de prédire l'état du trafic actuel, et comparer notre prédiction avec la réalité :"
   ]
  },
  {
   "cell_type": "code",
   "execution_count": null,
   "metadata": {},
   "outputs": [],
   "source": [
    "donnees_test = sf.charger_donnees_trafic_actuel()\n",
    "donnees_test.afficher()"
   ]
  },
  {
   "cell_type": "markdown",
   "metadata": {},
   "source": [
    "Créer 2 sous tableaux à partir de celui-ci : \n",
    "* un premier sans la colonne `etat_trafic` et `coordonnées`.\n",
    "* un second avec uniquement la colonne `etat_trafic`\n",
    "\n",
    "En utilisant l'IA entraînée précedemment, essayer de prédire les valeurs de la colonne `etat_trafic` avec ce premier tableau."
   ]
  },
  {
   "cell_type": "code",
   "execution_count": null,
   "metadata": {},
   "outputs": [],
   "source": [
    "entree_test = donnees_test.sous_tableau(colonnes=['id_troncon', 'hierarchie', 'denomination', 'jour', 'heure'])\n",
    "sortie_reelle = donnees_test.sous_tableau(colonnes=['etat_trafic'])"
   ]
  },
  {
   "cell_type": "code",
   "execution_count": null,
   "metadata": {},
   "outputs": [],
   "source": [
    "entree_test.afficher()"
   ]
  },
  {
   "cell_type": "code",
   "execution_count": null,
   "metadata": {},
   "outputs": [],
   "source": [
    "sortie_predite = akinator.predire(entree_test)"
   ]
  },
  {
   "cell_type": "markdown",
   "metadata": {},
   "source": [
    "__Question 4.4 :__ Afficher sur une première carte les données prédites du trafic. Sur une seconde, afficher les données observées. On pourra utiliser la commande `coller` (voir le mémo) pour coller deux tableaux ensemble."
   ]
  },
  {
   "cell_type": "code",
   "execution_count": null,
   "metadata": {},
   "outputs": [],
   "source": [
    "x = entree_test.coller(sortie_predite)\n",
    "sf.rajouter_couleur_depuis_etat_trafic(x)\n",
    "x.afficher_sur_une_carte()"
   ]
  },
  {
   "cell_type": "code",
   "execution_count": null,
   "metadata": {},
   "outputs": [],
   "source": [
    "sf.rajouter_couleur_depuis_etat_trafic(donnees_test)\n",
    "donnees_test.afficher_sur_une_carte()"
   ]
  },
  {
   "cell_type": "markdown",
   "metadata": {},
   "source": [
    "---"
   ]
  },
  {
   "cell_type": "markdown",
   "metadata": {},
   "source": [
    "Fin de la partie 4 ! Si vous souhaitez continuer, vous pouvez explorer les pistes suivantes :\n",
    "* Quel est le pourcentage de bonne réponse de l'IA sur l'état du trafic actuel ?\n",
    "* Afficher les tronçons avec des couleurs personnalisées, en fonction de l'état du trafic.\n",
    "* Afficher les tronçons avec des couleurs personnalisées, en fonction de la hierarchie. "
   ]
  },
  {
   "cell_type": "markdown",
   "metadata": {},
   "source": [
    "---"
   ]
  },
  {
   "cell_type": "markdown",
   "metadata": {},
   "source": [
    "### Bac à sable"
   ]
  },
  {
   "cell_type": "code",
   "execution_count": null,
   "metadata": {},
   "outputs": [],
   "source": [
    "#pourcentage de bonnes réponses de l'IA sur le dernier jeu de données.\n",
    "u = sortie_predite.avoir_la_colonne('etat_trafic') == sortie_reelle.avoir_la_colonne('etat_trafic')\n",
    "v = [1 if elem else 0 for elem in u]\n",
    "print(sum(v)/len(v))"
   ]
  },
  {
   "cell_type": "code",
   "execution_count": null,
   "metadata": {},
   "outputs": [],
   "source": []
  },
  {
   "cell_type": "code",
   "execution_count": null,
   "metadata": {},
   "outputs": [],
   "source": []
  }
 ],
 "metadata": {
  "kernelspec": {
   "display_name": "Python 3 (ipykernel)",
   "language": "python",
   "name": "python3"
  },
  "language_info": {
   "codemirror_mode": {
    "name": "ipython",
    "version": 3
   },
   "file_extension": ".py",
   "mimetype": "text/x-python",
   "name": "python",
   "nbconvert_exporter": "python",
   "pygments_lexer": "ipython3",
   "version": "3.11.8"
  }
 },
 "nbformat": 4,
 "nbformat_minor": 4
}
