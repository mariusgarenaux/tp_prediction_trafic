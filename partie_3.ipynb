{
 "cells": [
  {
   "cell_type": "code",
   "execution_count": 1,
   "metadata": {},
   "outputs": [],
   "source": [
    "import simplificator as sf"
   ]
  },
  {
   "cell_type": "markdown",
   "metadata": {},
   "source": [
    "## __3 - Entraînement d'une IA__\n",
    "---"
   ]
  },
  {
   "cell_type": "markdown",
   "metadata": {},
   "source": [
    "Nous allons entraîner une IA de prédiction de trafic, avec les données que l'on vient de visualiser.\n",
    "\n",
    ">Le modèle que nous allons utiliser est __Naïve Bayes__ (une explication de son fonctionnement est dans le fichier `./files/fiche_naive_bayes.md`). \n",
    "\n",
    "Pour résumer, nous allons entraîner une IA à prédire la colonne `etat_trafic` à partir des autres colonnes. Elle est censée prédire la valeur la _plus probable_ de la colonne `etat_trafic` sachant la valeur des autres colonnes. "
   ]
  },
  {
   "cell_type": "markdown",
   "metadata": {},
   "source": [
    "__Question 3.1 :__ Charger le second jeu de données (comme dans la partie 2), et les afficher :"
   ]
  },
  {
   "cell_type": "code",
   "execution_count": 2,
   "metadata": {},
   "outputs": [
    {
     "data": {
      "text/html": [
       "<div>\n",
       "<style scoped>\n",
       "    .dataframe tbody tr th:only-of-type {\n",
       "        vertical-align: middle;\n",
       "    }\n",
       "\n",
       "    .dataframe tbody tr th {\n",
       "        vertical-align: top;\n",
       "    }\n",
       "\n",
       "    .dataframe thead th {\n",
       "        text-align: right;\n",
       "    }\n",
       "</style>\n",
       "<table border=\"1\" class=\"dataframe\">\n",
       "  <thead>\n",
       "    <tr style=\"text-align: right;\">\n",
       "      <th></th>\n",
       "      <th>id_troncon</th>\n",
       "      <th>etat_trafic</th>\n",
       "      <th>coordonnees</th>\n",
       "      <th>hierarchie</th>\n",
       "      <th>denomination</th>\n",
       "      <th>jour</th>\n",
       "      <th>heure</th>\n",
       "    </tr>\n",
       "  </thead>\n",
       "  <tbody>\n",
       "    <tr>\n",
       "      <th>0</th>\n",
       "      <td>10273_D</td>\n",
       "      <td>fluide</td>\n",
       "      <td>48.04479275590756, -1.6502152435538264</td>\n",
       "      <td>Réseau d'armature</td>\n",
       "      <td>Route départementale 34</td>\n",
       "      <td>mardi</td>\n",
       "      <td>16</td>\n",
       "    </tr>\n",
       "    <tr>\n",
       "      <th>1</th>\n",
       "      <td>10273_G</td>\n",
       "      <td>fluide</td>\n",
       "      <td>48.04490011768304, -1.6501987288374649</td>\n",
       "      <td>Réseau d'armature</td>\n",
       "      <td>Route départementale 34</td>\n",
       "      <td>mardi</td>\n",
       "      <td>16</td>\n",
       "    </tr>\n",
       "    <tr>\n",
       "      <th>2</th>\n",
       "      <td>10274_D</td>\n",
       "      <td>fluide</td>\n",
       "      <td>48.045243782479545, -1.6428939526652684</td>\n",
       "      <td>Réseau d'armature</td>\n",
       "      <td>Route départementale 34</td>\n",
       "      <td>mardi</td>\n",
       "      <td>16</td>\n",
       "    </tr>\n",
       "    <tr>\n",
       "      <th>3</th>\n",
       "      <td>10274_G</td>\n",
       "      <td>fluide</td>\n",
       "      <td>48.045349914855116, -1.642923218024447</td>\n",
       "      <td>Réseau d'armature</td>\n",
       "      <td>Route départementale 34</td>\n",
       "      <td>mardi</td>\n",
       "      <td>16</td>\n",
       "    </tr>\n",
       "    <tr>\n",
       "      <th>4</th>\n",
       "      <td>10275_D</td>\n",
       "      <td>fluide</td>\n",
       "      <td>48.04564564136701, -1.6399234873467938</td>\n",
       "      <td>Réseau d'armature</td>\n",
       "      <td>Route départementale 34</td>\n",
       "      <td>mardi</td>\n",
       "      <td>16</td>\n",
       "    </tr>\n",
       "  </tbody>\n",
       "</table>\n",
       "</div>"
      ],
      "text/plain": [
       "  id_troncon etat_trafic                              coordonnees  \\\n",
       "0    10273_D      fluide   48.04479275590756, -1.6502152435538264   \n",
       "1    10273_G      fluide   48.04490011768304, -1.6501987288374649   \n",
       "2    10274_D      fluide  48.045243782479545, -1.6428939526652684   \n",
       "3    10274_G      fluide   48.045349914855116, -1.642923218024447   \n",
       "4    10275_D      fluide   48.04564564136701, -1.6399234873467938   \n",
       "\n",
       "          hierarchie             denomination   jour  heure  \n",
       "0  Réseau d'armature  Route départementale 34  mardi     16  \n",
       "1  Réseau d'armature  Route départementale 34  mardi     16  \n",
       "2  Réseau d'armature  Route départementale 34  mardi     16  \n",
       "3  Réseau d'armature  Route départementale 34  mardi     16  \n",
       "4  Réseau d'armature  Route départementale 34  mardi     16  "
      ]
     },
     "execution_count": 2,
     "metadata": {},
     "output_type": "execute_result"
    }
   ],
   "source": [
    "donnees = sf.charger_donnees_trafic_2()\n",
    "donnees.afficher()"
   ]
  },
  {
   "cell_type": "markdown",
   "metadata": {},
   "source": [
    "La commande `sous_tableau()` permet d'extraire un tableau d'un autre. Voici un exemple :"
   ]
  },
  {
   "cell_type": "code",
   "execution_count": 3,
   "metadata": {},
   "outputs": [
    {
     "data": {
      "text/html": [
       "<div>\n",
       "<style scoped>\n",
       "    .dataframe tbody tr th:only-of-type {\n",
       "        vertical-align: middle;\n",
       "    }\n",
       "\n",
       "    .dataframe tbody tr th {\n",
       "        vertical-align: top;\n",
       "    }\n",
       "\n",
       "    .dataframe thead th {\n",
       "        text-align: right;\n",
       "    }\n",
       "</style>\n",
       "<table border=\"1\" class=\"dataframe\">\n",
       "  <thead>\n",
       "    <tr style=\"text-align: right;\">\n",
       "      <th></th>\n",
       "      <th>coordonnees</th>\n",
       "      <th>etat_trafic</th>\n",
       "    </tr>\n",
       "  </thead>\n",
       "  <tbody>\n",
       "    <tr>\n",
       "      <th>0</th>\n",
       "      <td>48.04479275590756, -1.6502152435538264</td>\n",
       "      <td>fluide</td>\n",
       "    </tr>\n",
       "    <tr>\n",
       "      <th>1</th>\n",
       "      <td>48.04490011768304, -1.6501987288374649</td>\n",
       "      <td>fluide</td>\n",
       "    </tr>\n",
       "    <tr>\n",
       "      <th>2</th>\n",
       "      <td>48.045243782479545, -1.6428939526652684</td>\n",
       "      <td>fluide</td>\n",
       "    </tr>\n",
       "    <tr>\n",
       "      <th>3</th>\n",
       "      <td>48.045349914855116, -1.642923218024447</td>\n",
       "      <td>fluide</td>\n",
       "    </tr>\n",
       "    <tr>\n",
       "      <th>4</th>\n",
       "      <td>48.04564564136701, -1.6399234873467938</td>\n",
       "      <td>fluide</td>\n",
       "    </tr>\n",
       "  </tbody>\n",
       "</table>\n",
       "</div>"
      ],
      "text/plain": [
       "                               coordonnees etat_trafic\n",
       "0   48.04479275590756, -1.6502152435538264      fluide\n",
       "1   48.04490011768304, -1.6501987288374649      fluide\n",
       "2  48.045243782479545, -1.6428939526652684      fluide\n",
       "3   48.045349914855116, -1.642923218024447      fluide\n",
       "4   48.04564564136701, -1.6399234873467938      fluide"
      ]
     },
     "execution_count": 3,
     "metadata": {},
     "output_type": "execute_result"
    }
   ],
   "source": [
    "donnees = sf.charger_donnees_trafic_2()\n",
    "mon_sous_tableau = donnees.sous_tableau(colonnes=['etat_trafic', 'coordonnees'])\n",
    "mon_sous_tableau.afficher()"
   ]
  },
  {
   "cell_type": "markdown",
   "metadata": {},
   "source": [
    "On peut aussi spécifier les lignes que l'on veut garder :"
   ]
  },
  {
   "cell_type": "code",
   "execution_count": 4,
   "metadata": {},
   "outputs": [
    {
     "data": {
      "text/html": [
       "<div>\n",
       "<style scoped>\n",
       "    .dataframe tbody tr th:only-of-type {\n",
       "        vertical-align: middle;\n",
       "    }\n",
       "\n",
       "    .dataframe tbody tr th {\n",
       "        vertical-align: top;\n",
       "    }\n",
       "\n",
       "    .dataframe thead th {\n",
       "        text-align: right;\n",
       "    }\n",
       "</style>\n",
       "<table border=\"1\" class=\"dataframe\">\n",
       "  <thead>\n",
       "    <tr style=\"text-align: right;\">\n",
       "      <th></th>\n",
       "      <th>coordonnees</th>\n",
       "      <th>etat_trafic</th>\n",
       "    </tr>\n",
       "  </thead>\n",
       "  <tbody>\n",
       "    <tr>\n",
       "      <th>0</th>\n",
       "      <td>48.04479275590756, -1.6502152435538264</td>\n",
       "      <td>fluide</td>\n",
       "    </tr>\n",
       "    <tr>\n",
       "      <th>3</th>\n",
       "      <td>48.045349914855116, -1.642923218024447</td>\n",
       "      <td>fluide</td>\n",
       "    </tr>\n",
       "    <tr>\n",
       "      <th>18</th>\n",
       "      <td>48.04408857839227, -1.6654826987703695</td>\n",
       "      <td>ralenti</td>\n",
       "    </tr>\n",
       "  </tbody>\n",
       "</table>\n",
       "</div>"
      ],
      "text/plain": [
       "                               coordonnees etat_trafic\n",
       "0   48.04479275590756, -1.6502152435538264      fluide\n",
       "3   48.045349914855116, -1.642923218024447      fluide\n",
       "18  48.04408857839227, -1.6654826987703695     ralenti"
      ]
     },
     "execution_count": 4,
     "metadata": {},
     "output_type": "execute_result"
    }
   ],
   "source": [
    "mon_sous_tableau_2 = donnees.sous_tableau(lignes=[0, 3, 18], colonnes=['coordonnees', 'etat_trafic'])\n",
    "mon_sous_tableau_2.afficher()"
   ]
  },
  {
   "cell_type": "markdown",
   "metadata": {},
   "source": [
    "__Question 3.2 :__ Créer deux sous-tableaux depuis le tableau `donnees`. Un premier (on l'appelera `entree`) qui contient toutes les colonnes sauf `coordonnees` et `etat_trafic`. Et un second (on l'appelera `sortie`) qui ne contient que la colonne `etat_trafic`. Les afficher."
   ]
  },
  {
   "cell_type": "code",
   "execution_count": 5,
   "metadata": {},
   "outputs": [],
   "source": [
    "entree = donnees.sous_tableau(colonnes=['denomination', 'jour', 'heure'])\n",
    "sortie = donnees.sous_tableau(colonnes=['etat_trafic'])"
   ]
  },
  {
   "cell_type": "code",
   "execution_count": 6,
   "metadata": {},
   "outputs": [
    {
     "data": {
      "text/html": [
       "<div>\n",
       "<style scoped>\n",
       "    .dataframe tbody tr th:only-of-type {\n",
       "        vertical-align: middle;\n",
       "    }\n",
       "\n",
       "    .dataframe tbody tr th {\n",
       "        vertical-align: top;\n",
       "    }\n",
       "\n",
       "    .dataframe thead th {\n",
       "        text-align: right;\n",
       "    }\n",
       "</style>\n",
       "<table border=\"1\" class=\"dataframe\">\n",
       "  <thead>\n",
       "    <tr style=\"text-align: right;\">\n",
       "      <th></th>\n",
       "      <th>jour</th>\n",
       "      <th>heure</th>\n",
       "      <th>denomination</th>\n",
       "    </tr>\n",
       "  </thead>\n",
       "  <tbody>\n",
       "    <tr>\n",
       "      <th>0</th>\n",
       "      <td>mardi</td>\n",
       "      <td>16</td>\n",
       "      <td>Route départementale 34</td>\n",
       "    </tr>\n",
       "    <tr>\n",
       "      <th>1</th>\n",
       "      <td>mardi</td>\n",
       "      <td>16</td>\n",
       "      <td>Route départementale 34</td>\n",
       "    </tr>\n",
       "    <tr>\n",
       "      <th>2</th>\n",
       "      <td>mardi</td>\n",
       "      <td>16</td>\n",
       "      <td>Route départementale 34</td>\n",
       "    </tr>\n",
       "    <tr>\n",
       "      <th>3</th>\n",
       "      <td>mardi</td>\n",
       "      <td>16</td>\n",
       "      <td>Route départementale 34</td>\n",
       "    </tr>\n",
       "    <tr>\n",
       "      <th>4</th>\n",
       "      <td>mardi</td>\n",
       "      <td>16</td>\n",
       "      <td>Route départementale 34</td>\n",
       "    </tr>\n",
       "  </tbody>\n",
       "</table>\n",
       "</div>"
      ],
      "text/plain": [
       "    jour  heure             denomination\n",
       "0  mardi     16  Route départementale 34\n",
       "1  mardi     16  Route départementale 34\n",
       "2  mardi     16  Route départementale 34\n",
       "3  mardi     16  Route départementale 34\n",
       "4  mardi     16  Route départementale 34"
      ]
     },
     "execution_count": 6,
     "metadata": {},
     "output_type": "execute_result"
    }
   ],
   "source": [
    "entree.afficher()"
   ]
  },
  {
   "cell_type": "code",
   "execution_count": 7,
   "metadata": {},
   "outputs": [
    {
     "data": {
      "text/html": [
       "<div>\n",
       "<style scoped>\n",
       "    .dataframe tbody tr th:only-of-type {\n",
       "        vertical-align: middle;\n",
       "    }\n",
       "\n",
       "    .dataframe tbody tr th {\n",
       "        vertical-align: top;\n",
       "    }\n",
       "\n",
       "    .dataframe thead th {\n",
       "        text-align: right;\n",
       "    }\n",
       "</style>\n",
       "<table border=\"1\" class=\"dataframe\">\n",
       "  <thead>\n",
       "    <tr style=\"text-align: right;\">\n",
       "      <th></th>\n",
       "      <th>etat_trafic</th>\n",
       "    </tr>\n",
       "  </thead>\n",
       "  <tbody>\n",
       "    <tr>\n",
       "      <th>0</th>\n",
       "      <td>fluide</td>\n",
       "    </tr>\n",
       "    <tr>\n",
       "      <th>1</th>\n",
       "      <td>fluide</td>\n",
       "    </tr>\n",
       "    <tr>\n",
       "      <th>2</th>\n",
       "      <td>fluide</td>\n",
       "    </tr>\n",
       "    <tr>\n",
       "      <th>3</th>\n",
       "      <td>fluide</td>\n",
       "    </tr>\n",
       "    <tr>\n",
       "      <th>4</th>\n",
       "      <td>fluide</td>\n",
       "    </tr>\n",
       "  </tbody>\n",
       "</table>\n",
       "</div>"
      ],
      "text/plain": [
       "  etat_trafic\n",
       "0      fluide\n",
       "1      fluide\n",
       "2      fluide\n",
       "3      fluide\n",
       "4      fluide"
      ]
     },
     "execution_count": 7,
     "metadata": {},
     "output_type": "execute_result"
    }
   ],
   "source": [
    "sortie.afficher()"
   ]
  },
  {
   "cell_type": "markdown",
   "metadata": {},
   "source": [
    "__Question 3.3 :__ C'est le moment d'entraîner une IA. Voici la marche à suivre :"
   ]
  },
  {
   "cell_type": "code",
   "execution_count": 8,
   "metadata": {},
   "outputs": [],
   "source": [
    "akinator = sf.SfNaiveBayes() #crée une IA (vous pouvez changer le nom)."
   ]
  },
  {
   "cell_type": "code",
   "execution_count": 9,
   "metadata": {},
   "outputs": [
    {
     "name": "stdout",
     "output_type": "stream",
     "text": [
      "L'IA a bien été entraînée sur les colonnes ['jour', 'heure', 'denomination'] à prédire la valeur de la colonne 'etat_trafic'.\n"
     ]
    }
   ],
   "source": [
    "akinator.entrainer(entree, sortie) #utilise les données extraites précedemment pour l'entraînement."
   ]
  },
  {
   "cell_type": "markdown",
   "metadata": {},
   "source": [
    "Voilà ! Notre IA est entraînée. Elle peut prédire la valeur `etat_trafic` avec les valeurs `jour`, `heure` et `denomination`. Par exemple, essayons de prédire l'état du trafic un `mardi` à `16h` sur la `Route départementale 34`.\n",
    "\n",
    "> __ATTENTION__ Il faut quel les valeurs reprennent la même forme que les données d'entraînement (par exemple '`jeudi`' et non '`Jeudi`')."
   ]
  },
  {
   "cell_type": "code",
   "execution_count": 10,
   "metadata": {},
   "outputs": [
    {
     "data": {
      "text/html": [
       "<div>\n",
       "<style scoped>\n",
       "    .dataframe tbody tr th:only-of-type {\n",
       "        vertical-align: middle;\n",
       "    }\n",
       "\n",
       "    .dataframe tbody tr th {\n",
       "        vertical-align: top;\n",
       "    }\n",
       "\n",
       "    .dataframe thead th {\n",
       "        text-align: right;\n",
       "    }\n",
       "</style>\n",
       "<table border=\"1\" class=\"dataframe\">\n",
       "  <thead>\n",
       "    <tr style=\"text-align: right;\">\n",
       "      <th></th>\n",
       "      <th>denomination</th>\n",
       "      <th>jour</th>\n",
       "      <th>heure</th>\n",
       "    </tr>\n",
       "  </thead>\n",
       "  <tbody>\n",
       "    <tr>\n",
       "      <th>0</th>\n",
       "      <td>Route départementale 34</td>\n",
       "      <td>15</td>\n",
       "      <td>jeudi</td>\n",
       "    </tr>\n",
       "  </tbody>\n",
       "</table>\n",
       "</div>"
      ],
      "text/plain": [
       "              denomination jour  heure\n",
       "0  Route départementale 34   15  jeudi"
      ]
     },
     "execution_count": 10,
     "metadata": {},
     "output_type": "execute_result"
    }
   ],
   "source": [
    "nouvelle_entree = sf.nouveau_tableau(lignes=[['Route départementale 34', '15', 'jeudi']], colonnes=['denomination', 'heure', 'jour'])\n",
    "nouvelle_entree.afficher()"
   ]
  },
  {
   "cell_type": "code",
   "execution_count": 11,
   "metadata": {},
   "outputs": [
    {
     "data": {
      "text/html": [
       "<div>\n",
       "<style scoped>\n",
       "    .dataframe tbody tr th:only-of-type {\n",
       "        vertical-align: middle;\n",
       "    }\n",
       "\n",
       "    .dataframe tbody tr th {\n",
       "        vertical-align: top;\n",
       "    }\n",
       "\n",
       "    .dataframe thead th {\n",
       "        text-align: right;\n",
       "    }\n",
       "</style>\n",
       "<table border=\"1\" class=\"dataframe\">\n",
       "  <thead>\n",
       "    <tr style=\"text-align: right;\">\n",
       "      <th></th>\n",
       "      <th>etat_trafic</th>\n",
       "    </tr>\n",
       "  </thead>\n",
       "  <tbody>\n",
       "    <tr>\n",
       "      <th>0</th>\n",
       "      <td>tres_ralenti</td>\n",
       "    </tr>\n",
       "  </tbody>\n",
       "</table>\n",
       "</div>"
      ],
      "text/plain": [
       "    etat_trafic\n",
       "0  tres_ralenti"
      ]
     },
     "execution_count": 11,
     "metadata": {},
     "output_type": "execute_result"
    }
   ],
   "source": [
    "prediction = akinator.predire(nouvelle_entree)\n",
    "prediction.afficher()"
   ]
  },
  {
   "cell_type": "markdown",
   "metadata": {},
   "source": [
    "À vous : prédire (selon l'IA) l'état du trafic sur le `'Mail François Mitterand'` un `'jeudi'` à `'16'` heures :"
   ]
  },
  {
   "cell_type": "code",
   "execution_count": 12,
   "metadata": {},
   "outputs": [
    {
     "data": {
      "text/html": [
       "<div>\n",
       "<style scoped>\n",
       "    .dataframe tbody tr th:only-of-type {\n",
       "        vertical-align: middle;\n",
       "    }\n",
       "\n",
       "    .dataframe tbody tr th {\n",
       "        vertical-align: top;\n",
       "    }\n",
       "\n",
       "    .dataframe thead th {\n",
       "        text-align: right;\n",
       "    }\n",
       "</style>\n",
       "<table border=\"1\" class=\"dataframe\">\n",
       "  <thead>\n",
       "    <tr style=\"text-align: right;\">\n",
       "      <th></th>\n",
       "      <th>etat_trafic</th>\n",
       "    </tr>\n",
       "  </thead>\n",
       "  <tbody>\n",
       "    <tr>\n",
       "      <th>0</th>\n",
       "      <td>tres_ralenti</td>\n",
       "    </tr>\n",
       "  </tbody>\n",
       "</table>\n",
       "</div>"
      ],
      "text/plain": [
       "    etat_trafic\n",
       "0  tres_ralenti"
      ]
     },
     "execution_count": 12,
     "metadata": {},
     "output_type": "execute_result"
    }
   ],
   "source": [
    "X = sf.nouveau_tableau(lignes=[['Mail François Mitterand', 'jeudi', '16']], colonnes=['denomination', 'jour', 'heure'])\n",
    "y = akinator.predire(X)\n",
    "y.afficher()"
   ]
  },
  {
   "cell_type": "markdown",
   "metadata": {},
   "source": [
    "Voilà ! On a construit notre premier prédicteur. Est-il fiable ? Regardons plus en détail les données sur lesquelles il s'est entraîné :"
   ]
  },
  {
   "cell_type": "markdown",
   "metadata": {},
   "source": [
    "__Question 3.4 :__ Sur le tableau chargé dans la question __3.1__ (`charger_donnees_trafic_2()`), afficher les valeurs de la colonne `jour` et `heure` : "
   ]
  },
  {
   "cell_type": "code",
   "execution_count": 13,
   "metadata": {},
   "outputs": [
    {
     "name": "stdout",
     "output_type": "stream",
     "text": [
      "Les valeurs de la colonne jour sont :\n",
      "-mardi.\n",
      "Les valeurs de la colonne heure sont :\n",
      "-16.\n"
     ]
    }
   ],
   "source": [
    "donnees.afficher_les_valeurs_de_la_colonne('jour')\n",
    "donnees.afficher_les_valeurs_de_la_colonne('heure')"
   ]
  },
  {
   "cell_type": "markdown",
   "metadata": {},
   "source": [
    "En fait, on a entraîné notre modèle uniquement sur des données enregistrées un mardi à 16h... Voyons les conséquences sur ses capacités de prédiction :"
   ]
  },
  {
   "cell_type": "markdown",
   "metadata": {},
   "source": [
    "__Question 3.5 :__ Prédire l'état du trafic sur le `'Mail François Mitterand'` pour chaque jour de la semaine à __16h__ :"
   ]
  },
  {
   "cell_type": "code",
   "execution_count": 14,
   "metadata": {},
   "outputs": [
    {
     "data": {
      "text/plain": [
       "{'lundi': 'tres_ralenti',\n",
       " 'mardi': 'fluide',\n",
       " 'mercredi': 'tres_ralenti',\n",
       " 'jeudi': 'tres_ralenti',\n",
       " 'vendredi': 'tres_ralenti',\n",
       " 'samedi': 'tres_ralenti',\n",
       " 'dimanche': 'tres_ralenti'}"
      ]
     },
     "execution_count": 14,
     "metadata": {},
     "output_type": "execute_result"
    }
   ],
   "source": [
    "jours = ['lundi', 'mardi', 'mercredi', 'jeudi', 'vendredi', 'samedi', 'dimanche']\n",
    "prediction = dict()\n",
    "\n",
    "for jour in jours :\n",
    "    X = sf.nouveau_tableau(lignes=[['Mail François Mitterand', jour, '16']], colonnes=['denomination', 'jour', 'heure'])\n",
    "    y = akinator.predire(X)\n",
    "    prediction[jour] = y.avoir_element(0, 'etat_trafic')\n",
    "\n",
    "prediction"
   ]
  },
  {
   "cell_type": "markdown",
   "metadata": {},
   "source": [
    ">Autre solution :"
   ]
  },
  {
   "cell_type": "code",
   "execution_count": 15,
   "metadata": {},
   "outputs": [
    {
     "data": {
      "text/html": [
       "<div>\n",
       "<style scoped>\n",
       "    .dataframe tbody tr th:only-of-type {\n",
       "        vertical-align: middle;\n",
       "    }\n",
       "\n",
       "    .dataframe tbody tr th {\n",
       "        vertical-align: top;\n",
       "    }\n",
       "\n",
       "    .dataframe thead th {\n",
       "        text-align: right;\n",
       "    }\n",
       "</style>\n",
       "<table border=\"1\" class=\"dataframe\">\n",
       "  <thead>\n",
       "    <tr style=\"text-align: right;\">\n",
       "      <th></th>\n",
       "      <th>etat_trafic</th>\n",
       "    </tr>\n",
       "  </thead>\n",
       "  <tbody>\n",
       "    <tr>\n",
       "      <th>0</th>\n",
       "      <td>tres_ralenti</td>\n",
       "    </tr>\n",
       "    <tr>\n",
       "      <th>1</th>\n",
       "      <td>fluide</td>\n",
       "    </tr>\n",
       "    <tr>\n",
       "      <th>2</th>\n",
       "      <td>tres_ralenti</td>\n",
       "    </tr>\n",
       "    <tr>\n",
       "      <th>3</th>\n",
       "      <td>tres_ralenti</td>\n",
       "    </tr>\n",
       "    <tr>\n",
       "      <th>4</th>\n",
       "      <td>tres_ralenti</td>\n",
       "    </tr>\n",
       "    <tr>\n",
       "      <th>5</th>\n",
       "      <td>tres_ralenti</td>\n",
       "    </tr>\n",
       "    <tr>\n",
       "      <th>6</th>\n",
       "      <td>tres_ralenti</td>\n",
       "    </tr>\n",
       "  </tbody>\n",
       "</table>\n",
       "</div>"
      ],
      "text/plain": [
       "    etat_trafic\n",
       "0  tres_ralenti\n",
       "1        fluide\n",
       "2  tres_ralenti\n",
       "3  tres_ralenti\n",
       "4  tres_ralenti\n",
       "5  tres_ralenti\n",
       "6  tres_ralenti"
      ]
     },
     "execution_count": 15,
     "metadata": {},
     "output_type": "execute_result"
    }
   ],
   "source": [
    "lignes = [['Mail François Mitterand', jour, '16'] for jour in jours]\n",
    "\n",
    "entree = sf.nouveau_tableau(lignes=lignes, colonnes=['denomination', 'jour', 'heure'])\n",
    "sortie = akinator.predire(entree)\n",
    "sortie.afficher(7)"
   ]
  },
  {
   "cell_type": "markdown",
   "metadata": {},
   "source": [
    "__Question 3.6 :__ Même question mais cette fois ci un __mardi__ à __15h__, __18h__ et __8h__."
   ]
  },
  {
   "cell_type": "code",
   "execution_count": 16,
   "metadata": {},
   "outputs": [
    {
     "data": {
      "text/plain": [
       "{'15': 'tres_ralenti', '18': 'tres_ralenti', '8': 'tres_ralenti'}"
      ]
     },
     "execution_count": 16,
     "metadata": {},
     "output_type": "execute_result"
    }
   ],
   "source": [
    "heures = ['15','18', '8']\n",
    "prediction_2 = dict()\n",
    "\n",
    "for heure in heures :\n",
    "    X = sf.nouveau_tableau(lignes=[['Mail François Mitterand', 'mardi', heure]], colonnes=['denomination', 'jour', 'heure'])\n",
    "    y = akinator.predire(X)\n",
    "    prediction_2[heure] = y.avoir_element(0, 'etat_trafic')\n",
    "\n",
    "prediction_2"
   ]
  },
  {
   "cell_type": "markdown",
   "metadata": {},
   "source": [
    "Notre prédicteur n'a pas l'air de très bien prédire l'état du trafic... Il donne la même prédiction sur toutes les entrées différentes d'un mardi à 16h. Ce qui est logique car il n'a été entraîné __que__ sur des données d'un mardi à 16h."
   ]
  },
  {
   "cell_type": "markdown",
   "metadata": {},
   "source": [
    "---"
   ]
  },
  {
   "cell_type": "markdown",
   "metadata": {},
   "source": [
    "Fin de la partie 3. Dans la partie 4, on construit une IA avec plus de données, et on affiche les prédictions de l'état du trafic actuel sur une carte, que l'on compare avec l'état réel du trafic."
   ]
  },
  {
   "cell_type": "markdown",
   "metadata": {},
   "source": [
    "---"
   ]
  },
  {
   "cell_type": "markdown",
   "metadata": {},
   "source": [
    "### Bac à sable"
   ]
  },
  {
   "cell_type": "code",
   "execution_count": null,
   "metadata": {},
   "outputs": [],
   "source": []
  },
  {
   "cell_type": "code",
   "execution_count": null,
   "metadata": {},
   "outputs": [],
   "source": []
  },
  {
   "cell_type": "code",
   "execution_count": null,
   "metadata": {},
   "outputs": [],
   "source": []
  },
  {
   "cell_type": "code",
   "execution_count": null,
   "metadata": {},
   "outputs": [],
   "source": []
  },
  {
   "cell_type": "code",
   "execution_count": null,
   "metadata": {},
   "outputs": [],
   "source": []
  }
 ],
 "metadata": {
  "kernelspec": {
   "display_name": "Python 3 (ipykernel)",
   "language": "python",
   "name": "python3"
  },
  "language_info": {
   "codemirror_mode": {
    "name": "ipython",
    "version": 3
   },
   "file_extension": ".py",
   "mimetype": "text/x-python",
   "name": "python",
   "nbconvert_exporter": "python",
   "pygments_lexer": "ipython3",
   "version": "3.11.6"
  }
 },
 "nbformat": 4,
 "nbformat_minor": 4
}
