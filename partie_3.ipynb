{
 "cells": [
  {
   "cell_type": "code",
   "execution_count": null,
   "metadata": {},
   "outputs": [],
   "source": [
    "import sys\n",
    "sys.path.append('./simplificator/src')\n",
    "import simplificator as sf"
   ]
  },
  {
   "cell_type": "markdown",
   "metadata": {},
   "source": [
    "## __3 - Entraînement d'une IA__\n",
    "---"
   ]
  },
  {
   "cell_type": "markdown",
   "metadata": {},
   "source": [
    "Nous allons entraîner une IA de prédiction de trafic, avec les données que l'on vient de visualiser.\n",
    "\n",
    ">Le modèle que nous allons utiliser est __Naïve Bayes__ (une explication de son fonctionnement est dans le fichier `./files/fiche_naive_bayes.md`). \n",
    "\n",
    "Pour résumer, nous allons entraîner une IA à prédire la colonne `etat_trafic` à partir des autres colonnes. Elle est censée prédire la valeur la _plus probable_ de la colonne `etat_trafic` sachant la valeur des autres colonnes. "
   ]
  },
  {
   "cell_type": "markdown",
   "metadata": {},
   "source": [
    "__Question 3.1 :__ Charger le second jeu de données (comme dans la partie 2), et les afficher :"
   ]
  },
  {
   "cell_type": "code",
   "execution_count": null,
   "metadata": {},
   "outputs": [],
   "source": [
    "donnees = sf.charger_donnees_trafic_2()\n",
    "donnees.afficher()"
   ]
  },
  {
   "cell_type": "markdown",
   "metadata": {},
   "source": [
    "La commande `sous_tableau()` permet d'extraire un tableau d'un autre. Voici un exemple :"
   ]
  },
  {
   "cell_type": "code",
   "execution_count": null,
   "metadata": {},
   "outputs": [],
   "source": [
    "donnees = sf.charger_donnees_trafic_2()\n",
    "mon_sous_tableau = donnees.sous_tableau(colonnes=['etat_trafic', 'coordonnees'])\n",
    "mon_sous_tableau.afficher()"
   ]
  },
  {
   "cell_type": "markdown",
   "metadata": {},
   "source": [
    "On peut aussi spécifier les lignes que l'on veut garder :"
   ]
  },
  {
   "cell_type": "code",
   "execution_count": null,
   "metadata": {},
   "outputs": [],
   "source": [
    "mon_sous_tableau_2 = donnees.sous_tableau(lignes=[0, 3, 18], colonnes=['coordonnees', 'etat_trafic'])\n",
    "mon_sous_tableau_2.afficher()"
   ]
  },
  {
   "cell_type": "markdown",
   "metadata": {},
   "source": [
    "__Question 3.2 :__ Créer deux sous-tableaux depuis le tableau `donnees`. Un premier (on l'appelera `entree`) qui contient toutes les colonnes sauf `coordonnees` et `etat_trafic`. Et un second (on l'appelera `sortie`) qui ne contient que la colonne `etat_trafic`. Les afficher."
   ]
  },
  {
   "cell_type": "code",
   "execution_count": null,
   "metadata": {},
   "outputs": [],
   "source": [
    "entree = donnees.sous_tableau(colonnes=['denomination', 'jour', 'heure'])\n",
    "sortie = donnees.sous_tableau(colonnes=['etat_trafic'])"
   ]
  },
  {
   "cell_type": "code",
   "execution_count": null,
   "metadata": {},
   "outputs": [],
   "source": [
    "entree.afficher()"
   ]
  },
  {
   "cell_type": "code",
   "execution_count": null,
   "metadata": {},
   "outputs": [],
   "source": [
    "sortie.afficher()"
   ]
  },
  {
   "cell_type": "markdown",
   "metadata": {},
   "source": [
    "__Question 3.3 :__ C'est le moment d'entraîner une IA. Voici la marche à suivre :"
   ]
  },
  {
   "cell_type": "code",
   "execution_count": null,
   "metadata": {},
   "outputs": [],
   "source": [
    "akinator = sf.SfNaiveBayes() #crée une IA (vous pouvez changer le nom)."
   ]
  },
  {
   "cell_type": "code",
   "execution_count": null,
   "metadata": {},
   "outputs": [],
   "source": [
    "akinator.entrainer(entree, sortie) #utilise les données extraites précedemment pour l'entraînement."
   ]
  },
  {
   "cell_type": "markdown",
   "metadata": {},
   "source": [
    "Voilà ! Notre IA est entraînée. Elle peut prédire la valeur `etat_trafic` avec les valeurs `jour`, `heure` et `denomination`. Par exemple, essayons de prédire l'état du trafic un `mardi` à `16h` sur la `Route départementale 34`.\n",
    "\n",
    "> __ATTENTION__ Il faut quel les valeurs reprennent la même forme que les données d'entraînement (par exemple '`jeudi`' et non '`Jeudi`')."
   ]
  },
  {
   "cell_type": "code",
   "execution_count": null,
   "metadata": {},
   "outputs": [],
   "source": [
    "nouvelle_entree = sf.nouveau_tableau(lignes=[['Route départementale 34', '15', 'jeudi']], colonnes=['denomination', 'heure', 'jour'])\n",
    "nouvelle_entree.afficher()"
   ]
  },
  {
   "cell_type": "code",
   "execution_count": null,
   "metadata": {},
   "outputs": [],
   "source": [
    "prediction = akinator.predire(nouvelle_entree)\n",
    "prediction.afficher()"
   ]
  },
  {
   "cell_type": "markdown",
   "metadata": {},
   "source": [
    "À vous : prédire (selon l'IA) l'état du trafic sur le `'Mail François Mitterand'` un `'jeudi'` à `'16'` heures :"
   ]
  },
  {
   "cell_type": "code",
   "execution_count": null,
   "metadata": {},
   "outputs": [],
   "source": [
    "X = sf.nouveau_tableau(lignes=[['Mail François Mitterand', 'jeudi', '16']], colonnes=['denomination', 'jour', 'heure'])\n",
    "y = akinator.predire(X)\n",
    "y.afficher()"
   ]
  },
  {
   "cell_type": "markdown",
   "metadata": {},
   "source": [
    "Voilà ! On a construit notre premier prédicteur. Est-il fiable ? Regardons plus en détail les données sur lesquelles il s'est entraîné :"
   ]
  },
  {
   "cell_type": "markdown",
   "metadata": {},
   "source": [
    "__Question 3.4 :__ Sur le tableau chargé dans la question __3.1__ (`charger_donnees_trafic_2()`), afficher les valeurs de la colonne `jour` et `heure` : "
   ]
  },
  {
   "cell_type": "code",
   "execution_count": null,
   "metadata": {},
   "outputs": [],
   "source": [
    "donnees.afficher_les_valeurs_de_la_colonne('jour')\n",
    "donnees.afficher_les_valeurs_de_la_colonne('heure')"
   ]
  },
  {
   "cell_type": "markdown",
   "metadata": {},
   "source": [
    "En fait, on a entraîné notre modèle uniquement sur des données enregistrées un mardi à 16h... Voyons les conséquences sur ses capacités de prédiction :"
   ]
  },
  {
   "cell_type": "markdown",
   "metadata": {},
   "source": [
    "__Question 3.5 :__ Prédire l'état du trafic sur le `'Mail François Mitterand'` pour chaque jour de la semaine à __16h__ :"
   ]
  },
  {
   "cell_type": "code",
   "execution_count": null,
   "metadata": {},
   "outputs": [],
   "source": [
    "jours = ['lundi', 'mardi', 'mercredi', 'jeudi', 'vendredi', 'samedi', 'dimanche']\n",
    "prediction = dict()\n",
    "\n",
    "for jour in jours :\n",
    "    X = sf.nouveau_tableau(lignes=[['Mail François Mitterand', jour, '16']], colonnes=['denomination', 'jour', 'heure'])\n",
    "    y = akinator.predire(X)\n",
    "    prediction[jour] = y.avoir_element(0, 'etat_trafic')\n",
    "\n",
    "prediction"
   ]
  },
  {
   "cell_type": "markdown",
   "metadata": {},
   "source": [
    ">Autre solution :"
   ]
  },
  {
   "cell_type": "code",
   "execution_count": null,
   "metadata": {},
   "outputs": [],
   "source": [
    "lignes = [['Mail François Mitterand', jour, '16'] for jour in jours]\n",
    "\n",
    "entree = sf.nouveau_tableau(lignes=lignes, colonnes=['denomination', 'jour', 'heure'])\n",
    "sortie = akinator.predire(entree)\n",
    "sortie.afficher(7)"
   ]
  },
  {
   "cell_type": "markdown",
   "metadata": {},
   "source": [
    "__Question 3.6 :__ Même question mais cette fois ci un __mardi__ à __15h__, __18h__ et __8h__."
   ]
  },
  {
   "cell_type": "code",
   "execution_count": null,
   "metadata": {},
   "outputs": [],
   "source": [
    "heures = ['15','18', '8']\n",
    "prediction_2 = dict()\n",
    "\n",
    "for heure in heures :\n",
    "    X = sf.nouveau_tableau(lignes=[['Mail François Mitterand', 'mardi', heure]], colonnes=['denomination', 'jour', 'heure'])\n",
    "    y = akinator.predire(X)\n",
    "    prediction_2[heure] = y.avoir_element(0, 'etat_trafic')\n",
    "\n",
    "prediction_2"
   ]
  },
  {
   "cell_type": "markdown",
   "metadata": {},
   "source": [
    "Notre prédicteur n'a pas l'air de très bien prédire l'état du trafic... Il donne la même prédiction sur toutes les entrées différentes d'un mardi à 16h. Ce qui est logique car il n'a été entraîné __que__ sur des données d'un mardi à 16h."
   ]
  },
  {
   "cell_type": "markdown",
   "metadata": {},
   "source": [
    "---"
   ]
  },
  {
   "cell_type": "markdown",
   "metadata": {},
   "source": [
    "Fin de la partie 3. Dans la partie 4, on construit une IA avec plus de données, et on affiche les prédictions de l'état du trafic actuel sur une carte, que l'on compare avec l'état réel du trafic."
   ]
  },
  {
   "cell_type": "markdown",
   "metadata": {},
   "source": [
    "---"
   ]
  },
  {
   "cell_type": "markdown",
   "metadata": {},
   "source": [
    "### Bac à sable"
   ]
  },
  {
   "cell_type": "code",
   "execution_count": null,
   "metadata": {},
   "outputs": [],
   "source": []
  },
  {
   "cell_type": "code",
   "execution_count": null,
   "metadata": {},
   "outputs": [],
   "source": []
  },
  {
   "cell_type": "code",
   "execution_count": null,
   "metadata": {},
   "outputs": [],
   "source": []
  },
  {
   "cell_type": "code",
   "execution_count": null,
   "metadata": {},
   "outputs": [],
   "source": []
  },
  {
   "cell_type": "code",
   "execution_count": null,
   "metadata": {},
   "outputs": [],
   "source": []
  }
 ],
 "metadata": {
  "kernelspec": {
   "display_name": "Python 3 (ipykernel)",
   "language": "python",
   "name": "python3"
  },
  "language_info": {
   "codemirror_mode": {
    "name": "ipython",
    "version": 3
   },
   "file_extension": ".py",
   "mimetype": "text/x-python",
   "name": "python",
   "nbconvert_exporter": "python",
   "pygments_lexer": "ipython3",
   "version": "3.11.8"
  }
 },
 "nbformat": 4,
 "nbformat_minor": 4
}
