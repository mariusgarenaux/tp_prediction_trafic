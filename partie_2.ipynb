{
 "cells": [
  {
   "cell_type": "code",
   "execution_count": null,
   "metadata": {},
   "outputs": [],
   "source": [
    "import sys\n",
    "sys.path.append('./simplificator/src')\n",
    "import simplificator as sf"
   ]
  },
  {
   "cell_type": "markdown",
   "metadata": {},
   "source": [
    "# __2 - Affichage des données__\n",
    "---"
   ]
  },
  {
   "cell_type": "markdown",
   "metadata": {},
   "source": [
    "On commence par charger un autre jeu de données :"
   ]
  },
  {
   "cell_type": "code",
   "execution_count": null,
   "metadata": {},
   "outputs": [],
   "source": [
    "donnees_trafic_2 = sf.charger_donnees_trafic_2()"
   ]
  },
  {
   "cell_type": "markdown",
   "metadata": {},
   "source": [
    "__Question 2.1 :__ Afficher les premières lignes :"
   ]
  },
  {
   "cell_type": "code",
   "execution_count": null,
   "metadata": {},
   "outputs": [],
   "source": [
    "donnees_trafic_2.afficher()"
   ]
  },
  {
   "cell_type": "markdown",
   "metadata": {},
   "source": [
    "__Question 2.2 :__"
   ]
  },
  {
   "cell_type": "markdown",
   "metadata": {},
   "source": [
    ">Ces nouvelles données ont une colonne supplémentaire : `coordonnees`. Elle permet de situer précisement sur une carte chaque tronçon.\n",
    "\n",
    "Avec la fonction `avoir_element(numéro de ligne, 'nom de la colonne')`, on peut récuperer un élément précis du tableau. Par exemple :"
   ]
  },
  {
   "cell_type": "code",
   "execution_count": null,
   "metadata": {},
   "outputs": [],
   "source": [
    "coordonnees_ligne_2 = donnees_trafic_2.avoir_element(2,'coordonnees')\n",
    "print(coordonnees_ligne_2)"
   ]
  },
  {
   "cell_type": "markdown",
   "metadata": {},
   "source": [
    "Vérifier que c'est bien l'élément de la ligne `2`, à la colonne `coordonnees`. Aller sur [Google Maps](https://www.google.com/maps). Coller dans la barre de recherche ces coordonnées, et voir où se situe ce tronçon."
   ]
  },
  {
   "cell_type": "markdown",
   "metadata": {},
   "source": [
    "__Question 2.3 :__ Recommencer avec la ligne numéro `198` du tableau. Afficher en plus la valeur de la colonne `'denomination'` sur cette ligne."
   ]
  },
  {
   "cell_type": "code",
   "execution_count": null,
   "metadata": {},
   "outputs": [],
   "source": [
    "print(donnees_trafic_2.avoir_element(198,'coordonnees'))"
   ]
  },
  {
   "cell_type": "code",
   "execution_count": null,
   "metadata": {},
   "outputs": [],
   "source": [
    "print(donnees_trafic_2.avoir_element(198,'denomination'))"
   ]
  },
  {
   "cell_type": "markdown",
   "metadata": {},
   "source": [
    "__Question 2.4 :__"
   ]
  },
  {
   "cell_type": "markdown",
   "metadata": {},
   "source": [
    "On va maintenant afficher tous les tronçons du tableau. Pour cela, on utilise un équivalent opensource et collaboratif de Google Map : __OpenStreetMap__. \n",
    "\n",
    "Voici un exemple :"
   ]
  },
  {
   "cell_type": "code",
   "execution_count": null,
   "metadata": {},
   "outputs": [],
   "source": [
    "donnees_trafic_2.afficher_sur_une_carte()"
   ]
  },
  {
   "cell_type": "markdown",
   "metadata": {},
   "source": [
    "On peut rajouter une colonne `couleur` au tableau, qui indique quelle couleur afficher pour chaque ligne. "
   ]
  },
  {
   "cell_type": "code",
   "execution_count": null,
   "metadata": {},
   "outputs": [],
   "source": [
    "sf.rajouter_couleur_depuis_etat_trafic(donnees_trafic_2)"
   ]
  },
  {
   "cell_type": "markdown",
   "metadata": {},
   "source": [
    "Afficher les premières lignes du tableau :"
   ]
  },
  {
   "cell_type": "code",
   "execution_count": null,
   "metadata": {},
   "outputs": [],
   "source": [
    "donnees_trafic_2.afficher()"
   ]
  },
  {
   "cell_type": "markdown",
   "metadata": {},
   "source": [
    ">On a utilisé la correspondance suivante entre l'état du trafic et les couleurs :\n",
    ">\n",
    ">- 'circulation_impossible': 'red', \n",
    ">- 'tres_ralenti': 'orange',\n",
    ">- 'ralenti': 'yellow', \n",
    ">- 'fluide': 'green',\n",
    ">- 'inconnu': 'grey'\n",
    ">\n",
    ">Si vous souhaitez d'autres couleurs, regardez la commande `rajouter_couleur` dans le __mémo__"
   ]
  },
  {
   "cell_type": "markdown",
   "metadata": {},
   "source": [
    "Afficher de nouveau les tronçons sur une carte :"
   ]
  },
  {
   "cell_type": "code",
   "execution_count": null,
   "metadata": {},
   "outputs": [],
   "source": [
    "donnees_trafic_2.afficher_sur_une_carte()"
   ]
  },
  {
   "cell_type": "markdown",
   "metadata": {},
   "source": [
    "On peut donc visualiser l'état du trafic sur tous les tronçons de la ville !"
   ]
  },
  {
   "cell_type": "markdown",
   "metadata": {},
   "source": [
    "---"
   ]
  },
  {
   "cell_type": "markdown",
   "metadata": {},
   "source": [
    "_Fin de la partie 2. Dans la partie 3, on construit une première IA de prédiction du trafic._"
   ]
  },
  {
   "cell_type": "markdown",
   "metadata": {},
   "source": [
    "---"
   ]
  },
  {
   "cell_type": "markdown",
   "metadata": {},
   "source": [
    "### Bac à sable"
   ]
  },
  {
   "cell_type": "code",
   "execution_count": null,
   "metadata": {},
   "outputs": [],
   "source": []
  },
  {
   "cell_type": "code",
   "execution_count": null,
   "metadata": {},
   "outputs": [],
   "source": []
  },
  {
   "cell_type": "code",
   "execution_count": null,
   "metadata": {},
   "outputs": [],
   "source": []
  },
  {
   "cell_type": "code",
   "execution_count": null,
   "metadata": {},
   "outputs": [],
   "source": []
  }
 ],
 "metadata": {
  "kernelspec": {
   "display_name": "Python 3 (ipykernel)",
   "language": "python",
   "name": "python3"
  },
  "language_info": {
   "codemirror_mode": {
    "name": "ipython",
    "version": 3
   },
   "file_extension": ".py",
   "mimetype": "text/x-python",
   "name": "python",
   "nbconvert_exporter": "python",
   "pygments_lexer": "ipython3",
   "version": "3.11.8"
  }
 },
 "nbformat": 4,
 "nbformat_minor": 4
}
