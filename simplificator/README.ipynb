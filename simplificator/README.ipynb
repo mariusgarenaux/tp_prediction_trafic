{
 "cells": [
  {
   "cell_type": "code",
   "execution_count": 2,
   "metadata": {},
   "outputs": [
    {
     "name": "stdout",
     "output_type": "stream",
     "text": [
      "/home/marius/dev/projets/exo_trafic_ml/simplificator\n"
     ]
    }
   ],
   "source": [
    "import os\n",
    "import sys\n",
    "import pandas as pd\n",
    "\n",
    "print(os.getcwd())\n",
    "sys.path.append('./src')\n",
    "import simplificator as sf"
   ]
  },
  {
   "cell_type": "markdown",
   "metadata": {},
   "source": [
    "Create a SfDataFrame :"
   ]
  },
  {
   "cell_type": "code",
   "execution_count": 6,
   "metadata": {},
   "outputs": [],
   "source": [
    "df = pd.DataFrame([['a', 'A'], ['b', 'B'],['c', 'C'], ['d', 'D']], columns= ['minuscule', 'majuscule'])\n",
    "sdf = sf.SfDataFrame(df)"
   ]
  },
  {
   "cell_type": "markdown",
   "metadata": {},
   "source": [
    "Show a SfDataFrame :"
   ]
  },
  {
   "cell_type": "code",
   "execution_count": 8,
   "metadata": {},
   "outputs": [
    {
     "data": {
      "text/html": [
       "<div>\n",
       "<style scoped>\n",
       "    .dataframe tbody tr th:only-of-type {\n",
       "        vertical-align: middle;\n",
       "    }\n",
       "\n",
       "    .dataframe tbody tr th {\n",
       "        vertical-align: top;\n",
       "    }\n",
       "\n",
       "    .dataframe thead th {\n",
       "        text-align: right;\n",
       "    }\n",
       "</style>\n",
       "<table border=\"1\" class=\"dataframe\">\n",
       "  <thead>\n",
       "    <tr style=\"text-align: right;\">\n",
       "      <th></th>\n",
       "      <th>minuscule</th>\n",
       "      <th>majuscule</th>\n",
       "    </tr>\n",
       "  </thead>\n",
       "  <tbody>\n",
       "    <tr>\n",
       "      <th>0</th>\n",
       "      <td>a</td>\n",
       "      <td>A</td>\n",
       "    </tr>\n",
       "    <tr>\n",
       "      <th>1</th>\n",
       "      <td>b</td>\n",
       "      <td>B</td>\n",
       "    </tr>\n",
       "  </tbody>\n",
       "</table>\n",
       "</div>"
      ],
      "text/plain": [
       "  minuscule majuscule\n",
       "0         a         A\n",
       "1         b         B"
      ]
     },
     "execution_count": 8,
     "metadata": {},
     "output_type": "execute_result"
    }
   ],
   "source": [
    "sdf.afficher(2)"
   ]
  },
  {
   "cell_type": "markdown",
   "metadata": {},
   "source": [
    "The following example uses traffic data from Rennes. It is available online in a RUDI node (see: https://rudi.bzh/catalogue)."
   ]
  },
  {
   "cell_type": "code",
   "execution_count": 3,
   "metadata": {},
   "outputs": [
    {
     "name": "stdout",
     "output_type": "stream",
     "text": [
      "L'IA a bien été entraînée sur les colonnes ['id_troncon', 'hierarchie', 'jour', 'denomination', 'heure'] à prédire la valeur de la colonne 'etat_trafic'.\n"
     ]
    }
   ],
   "source": [
    "data_train = sf.charger_donnees_trafic_2()\n",
    "x_train, y_train = data_train.sous_tableau(colonnes=['id_troncon', 'denomination', 'hierarchie', 'jour', 'heure']), data_train.sous_tableau(colonnes=['etat_trafic'])\n",
    "akinator = sf.SfNaiveBayes()\n",
    "akinator.entrainer(entree = x_train, sortie = y_train)"
   ]
  },
  {
   "cell_type": "markdown",
   "metadata": {},
   "source": [
    "Load current data traffic in Rennes, from the url : https://data.rennesmetropole.fr/api/explore/v2.1/catalog/datasets/etat-du-trafic-en-temps-reel/exports/csv?lang=fr&timezone=Europe%2FBerlin&use_labels=true&delimiter=%3B :"
   ]
  },
  {
   "cell_type": "code",
   "execution_count": 4,
   "metadata": {},
   "outputs": [],
   "source": [
    "data_test = sf.charger_donnees_trafic_actuel()"
   ]
  },
  {
   "cell_type": "code",
   "execution_count": 5,
   "metadata": {},
   "outputs": [
    {
     "data": {
      "text/html": [
       "<div>\n",
       "<style scoped>\n",
       "    .dataframe tbody tr th:only-of-type {\n",
       "        vertical-align: middle;\n",
       "    }\n",
       "\n",
       "    .dataframe tbody tr th {\n",
       "        vertical-align: top;\n",
       "    }\n",
       "\n",
       "    .dataframe thead th {\n",
       "        text-align: right;\n",
       "    }\n",
       "</style>\n",
       "<table border=\"1\" class=\"dataframe\">\n",
       "  <thead>\n",
       "    <tr style=\"text-align: right;\">\n",
       "      <th></th>\n",
       "      <th>id_troncon</th>\n",
       "      <th>hierarchie</th>\n",
       "      <th>jour</th>\n",
       "      <th>denomination</th>\n",
       "      <th>heure</th>\n",
       "    </tr>\n",
       "  </thead>\n",
       "  <tbody>\n",
       "    <tr>\n",
       "      <th>0</th>\n",
       "      <td>10273_D</td>\n",
       "      <td>Réseau d'armature</td>\n",
       "      <td>mercredi</td>\n",
       "      <td>Route départementale 34</td>\n",
       "      <td>15</td>\n",
       "    </tr>\n",
       "    <tr>\n",
       "      <th>1</th>\n",
       "      <td>10273_G</td>\n",
       "      <td>Réseau d'armature</td>\n",
       "      <td>mercredi</td>\n",
       "      <td>Route départementale 34</td>\n",
       "      <td>15</td>\n",
       "    </tr>\n",
       "    <tr>\n",
       "      <th>2</th>\n",
       "      <td>10274_D</td>\n",
       "      <td>Réseau d'armature</td>\n",
       "      <td>mercredi</td>\n",
       "      <td>Route départementale 34</td>\n",
       "      <td>15</td>\n",
       "    </tr>\n",
       "    <tr>\n",
       "      <th>3</th>\n",
       "      <td>10274_G</td>\n",
       "      <td>Réseau d'armature</td>\n",
       "      <td>mercredi</td>\n",
       "      <td>Route départementale 34</td>\n",
       "      <td>15</td>\n",
       "    </tr>\n",
       "    <tr>\n",
       "      <th>4</th>\n",
       "      <td>10275_D</td>\n",
       "      <td>Réseau d'armature</td>\n",
       "      <td>mercredi</td>\n",
       "      <td>Route départementale 34</td>\n",
       "      <td>15</td>\n",
       "    </tr>\n",
       "  </tbody>\n",
       "</table>\n",
       "</div>"
      ],
      "text/plain": [
       "  id_troncon         hierarchie      jour             denomination  heure\n",
       "0    10273_D  Réseau d'armature  mercredi  Route départementale 34     15\n",
       "1    10273_G  Réseau d'armature  mercredi  Route départementale 34     15\n",
       "2    10274_D  Réseau d'armature  mercredi  Route départementale 34     15\n",
       "3    10274_G  Réseau d'armature  mercredi  Route départementale 34     15\n",
       "4    10275_D  Réseau d'armature  mercredi  Route départementale 34     15"
      ]
     },
     "execution_count": 5,
     "metadata": {},
     "output_type": "execute_result"
    }
   ],
   "source": [
    "x_test, y_test = data_test.sous_tableau(colonnes=['id_troncon', 'denomination', 'hierarchie', 'jour', 'heure']), data_test.sous_tableau(colonnes=['etat_trafic'])\n",
    "x_test.afficher()"
   ]
  },
  {
   "cell_type": "code",
   "execution_count": 6,
   "metadata": {},
   "outputs": [],
   "source": [
    "y_predict = akinator.predire(x_test)"
   ]
  },
  {
   "cell_type": "code",
   "execution_count": 7,
   "metadata": {},
   "outputs": [
    {
     "name": "stdout",
     "output_type": "stream",
     "text": [
      "0.5374177631578947\n"
     ]
    }
   ],
   "source": [
    "#pourcentage de bonnes réponses de l'IA sur le dernier jeu de données.\n",
    "u = y_predict.avoir_la_colonne('etat_trafic') == y_test.avoir_la_colonne('etat_trafic')\n",
    "v = [1 if elem else 0 for elem in u]\n",
    "print(sum(v)/len(v))"
   ]
  },
  {
   "cell_type": "code",
   "execution_count": null,
   "metadata": {},
   "outputs": [],
   "source": []
  }
 ],
 "metadata": {
  "kernelspec": {
   "display_name": "venv",
   "language": "python",
   "name": "python3"
  },
  "language_info": {
   "codemirror_mode": {
    "name": "ipython",
    "version": 3
   },
   "file_extension": ".py",
   "mimetype": "text/x-python",
   "name": "python",
   "nbconvert_exporter": "python",
   "pygments_lexer": "ipython3",
   "version": "3.11.6"
  }
 },
 "nbformat": 4,
 "nbformat_minor": 2
}
